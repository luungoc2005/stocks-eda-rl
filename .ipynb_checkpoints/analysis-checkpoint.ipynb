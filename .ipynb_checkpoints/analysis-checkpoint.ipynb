{
 "cells": [
  {
   "cell_type": "code",
   "execution_count": 1,
   "metadata": {},
   "outputs": [],
   "source": [
    "import pandas as pd\n",
    "import numpy as np"
   ]
  },
  {
   "cell_type": "code",
   "execution_count": 2,
   "metadata": {},
   "outputs": [],
   "source": [
    "data = pd.read_csv('NWL.csv')"
   ]
  },
  {
   "cell_type": "code",
   "execution_count": 3,
   "metadata": {},
   "outputs": [
    {
     "data": {
      "text/html": [
       "<div>\n",
       "<style scoped>\n",
       "    .dataframe tbody tr th:only-of-type {\n",
       "        vertical-align: middle;\n",
       "    }\n",
       "\n",
       "    .dataframe tbody tr th {\n",
       "        vertical-align: top;\n",
       "    }\n",
       "\n",
       "    .dataframe thead th {\n",
       "        text-align: right;\n",
       "    }\n",
       "</style>\n",
       "<table border=\"1\" class=\"dataframe\">\n",
       "  <thead>\n",
       "    <tr style=\"text-align: right;\">\n",
       "      <th></th>\n",
       "      <th>Date</th>\n",
       "      <th>Open</th>\n",
       "      <th>High</th>\n",
       "      <th>Low</th>\n",
       "      <th>Close</th>\n",
       "      <th>Adj Close</th>\n",
       "      <th>Volume</th>\n",
       "    </tr>\n",
       "  </thead>\n",
       "  <tbody>\n",
       "    <tr>\n",
       "      <th>0</th>\n",
       "      <td>2012-07-09</td>\n",
       "      <td>18.230000</td>\n",
       "      <td>18.270000</td>\n",
       "      <td>17.959999</td>\n",
       "      <td>18.030001</td>\n",
       "      <td>15.058986</td>\n",
       "      <td>1368400</td>\n",
       "    </tr>\n",
       "    <tr>\n",
       "      <th>1</th>\n",
       "      <td>2012-07-10</td>\n",
       "      <td>18.100000</td>\n",
       "      <td>18.270000</td>\n",
       "      <td>17.610001</td>\n",
       "      <td>17.700001</td>\n",
       "      <td>14.783367</td>\n",
       "      <td>1770500</td>\n",
       "    </tr>\n",
       "    <tr>\n",
       "      <th>2</th>\n",
       "      <td>2012-07-11</td>\n",
       "      <td>17.690001</td>\n",
       "      <td>17.719999</td>\n",
       "      <td>17.299999</td>\n",
       "      <td>17.420000</td>\n",
       "      <td>14.549504</td>\n",
       "      <td>2427800</td>\n",
       "    </tr>\n",
       "    <tr>\n",
       "      <th>3</th>\n",
       "      <td>2012-07-12</td>\n",
       "      <td>17.320000</td>\n",
       "      <td>17.540001</td>\n",
       "      <td>17.250000</td>\n",
       "      <td>17.400000</td>\n",
       "      <td>14.532798</td>\n",
       "      <td>4245900</td>\n",
       "    </tr>\n",
       "    <tr>\n",
       "      <th>4</th>\n",
       "      <td>2012-07-13</td>\n",
       "      <td>17.410000</td>\n",
       "      <td>17.820000</td>\n",
       "      <td>17.410000</td>\n",
       "      <td>17.700001</td>\n",
       "      <td>14.783367</td>\n",
       "      <td>2207800</td>\n",
       "    </tr>\n",
       "  </tbody>\n",
       "</table>\n",
       "</div>"
      ],
      "text/plain": [
       "         Date       Open       High        Low      Close  Adj Close   Volume\n",
       "0  2012-07-09  18.230000  18.270000  17.959999  18.030001  15.058986  1368400\n",
       "1  2012-07-10  18.100000  18.270000  17.610001  17.700001  14.783367  1770500\n",
       "2  2012-07-11  17.690001  17.719999  17.299999  17.420000  14.549504  2427800\n",
       "3  2012-07-12  17.320000  17.540001  17.250000  17.400000  14.532798  4245900\n",
       "4  2012-07-13  17.410000  17.820000  17.410000  17.700001  14.783367  2207800"
      ]
     },
     "execution_count": 3,
     "metadata": {},
     "output_type": "execute_result"
    }
   ],
   "source": [
    "data.head()"
   ]
  },
  {
   "cell_type": "code",
   "execution_count": 4,
   "metadata": {},
   "outputs": [
    {
     "data": {
      "text/plain": [
       "Date         1760\n",
       "Open         1760\n",
       "High         1760\n",
       "Low          1760\n",
       "Close        1760\n",
       "Adj Close    1760\n",
       "Volume       1760\n",
       "dtype: int64"
      ]
     },
     "execution_count": 4,
     "metadata": {},
     "output_type": "execute_result"
    }
   ],
   "source": [
    "data.count()"
   ]
  },
  {
   "cell_type": "code",
   "execution_count": 5,
   "metadata": {},
   "outputs": [],
   "source": [
    "count = data['Date'].count()\n",
    "# train_count = int(count * .8)\n",
    "\n",
    "# y_train = data[['Date', 'Close']][:train_count]\n",
    "# y_test = data[['Date', 'Close']][train_count:]\n",
    "\n",
    "y_train = data[['Date', 'Close']][count - 30 - 365:count - 30]\n",
    "y_test = data[['Date', 'Close']][-30:]\n",
    "\n",
    "test_count = y_test['Date'].count()\n",
    "\n",
    "y_train_plt = y_train.set_index('Date')\n",
    "y_test_plt = y_test.set_index('Date')\n",
    "\n",
    "y_train_plt.sort_index(inplace=True)\n",
    "y_test_plt.sort_index(inplace=True)"
   ]
  },
  {
   "cell_type": "code",
   "execution_count": null,
   "metadata": {},
   "outputs": [],
   "source": [
    "%matplotlib inline\n",
    "import matplotlib.pyplot as plt\n",
    "\n",
    "plt.plot(y_train_plt)\n",
    "plt.plot(y_test_plt, color='Red')\n",
    "plt.xlabel('Date', fontsize=11)\n",
    "plt.ylabel('Price in USD', fontsize=11)\n",
    "plt.show()"
   ]
  },
  {
   "cell_type": "code",
   "execution_count": null,
   "metadata": {},
   "outputs": [],
   "source": [
    "from statsmodels.tsa.stattools import adfuller\n",
    "\n",
    "def test_stationarity(x):\n",
    "    #Determing rolling statistics\n",
    "    rolmean = x.rolling(window=22,center=False).mean()\n",
    "\n",
    "    rolstd = x.rolling(window=12,center=False).std()\n",
    "\n",
    "    #Plot rolling statistics:\n",
    "    orig = plt.plot(x, color='blue',label='Original')\n",
    "    mean = plt.plot(rolmean, color='red', label='Rolling Mean')\n",
    "    std = plt.plot(rolstd, color='black', label = 'Rolling Std')\n",
    "    plt.legend(loc='best')\n",
    "    plt.title('Rolling Mean & Standard Deviation')\n",
    "    plt.show(block=False)\n",
    "\n",
    "    #Perform Dickey Fuller test    \n",
    "    result=adfuller(x)\n",
    "    print('ADF Stastistic: %f'%result[0])\n",
    "    print('p-value: %f'%result[1])\n",
    "    pvalue=result[1]\n",
    "    for key,value in result[4].items():\n",
    "        if result[0]>value:\n",
    "            print(\"The graph is non stationary\")\n",
    "            break\n",
    "        else:\n",
    "            print(\"The graph is stationary\")\n",
    "            break\n",
    "    print('Critical values:')\n",
    "    for key,value in result[4].items():\n",
    "        print('\\t%s: %.3f ' % (key, value))"
   ]
  },
  {
   "cell_type": "code",
   "execution_count": null,
   "metadata": {},
   "outputs": [],
   "source": [
    "test_stationarity(y_train['Close'])"
   ]
  },
  {
   "cell_type": "code",
   "execution_count": null,
   "metadata": {},
   "outputs": [],
   "source": [
    "ts_log = np.log1p(y_train['Close'])\n",
    "plt.plot(ts_log,color=\"green\")\n",
    "plt.show()\n",
    "\n",
    "test_stationarity(ts_log)"
   ]
  },
  {
   "cell_type": "code",
   "execution_count": null,
   "metadata": {},
   "outputs": [],
   "source": [
    "ts_log[:5]"
   ]
  },
  {
   "cell_type": "code",
   "execution_count": null,
   "metadata": {},
   "outputs": [],
   "source": [
    "ts_log_diff = ts_log - ts_log.shift()\n",
    "ts_log_diff[:5]"
   ]
  },
  {
   "cell_type": "code",
   "execution_count": null,
   "metadata": {},
   "outputs": [],
   "source": [
    "ts_log_clone = ts_log.copy()\n",
    "rolling_val = ts_log[0]\n",
    "for idx, value in ts_log_diff.iteritems():\n",
    "    if not np.isnan(value):\n",
    "        rolling_val = rolling_val + value\n",
    "        ts_log_clone[idx] = rolling_val"
   ]
  },
  {
   "cell_type": "code",
   "execution_count": null,
   "metadata": {},
   "outputs": [],
   "source": [
    "ts_log_clone[:5]"
   ]
  },
  {
   "cell_type": "code",
   "execution_count": null,
   "metadata": {},
   "outputs": [],
   "source": [
    "sum((ts_log_clone-ts_log)**2)"
   ]
  },
  {
   "cell_type": "code",
   "execution_count": null,
   "metadata": {},
   "outputs": [],
   "source": [
    "ts_log_clone.count()"
   ]
  },
  {
   "cell_type": "code",
   "execution_count": null,
   "metadata": {},
   "outputs": [],
   "source": [
    "ts_log_diff = ts_log - ts_log.shift()\n",
    "plt.plot(ts_log_diff)\n",
    "plt.show()\n",
    "\n",
    "ts_log_diff.dropna(inplace=True)\n",
    "test_stationarity(ts_log_diff)"
   ]
  },
  {
   "cell_type": "code",
   "execution_count": null,
   "metadata": {},
   "outputs": [],
   "source": [
    "from statsmodels.tsa.arima_model import ARIMA\n",
    "\n",
    "results = []\n",
    "for a in range(4):\n",
    "    for b in range(4):\n",
    "        for c in range(4):\n",
    "#             model = ARIMA(ts_log, order=(1,1,0))\n",
    "            try:\n",
    "                model = ARIMA(ts_log, order=(a,b,c))\n",
    "                results_ARIMA = model.fit(disp=-1)\n",
    "                model_rss = sum((results_ARIMA.fittedvalues-ts_log_diff)**2)\n",
    "                if not np.isnan(model_rss):\n",
    "                    print('a={}, b={}, c={} - RSS={}'.format(a, b, c, model_rss))\n",
    "                    results.append({\n",
    "                        'params': (a, b, c),\n",
    "                        'model': model,\n",
    "                        'results': results_ARIMA,\n",
    "                        'rss': model_rss\n",
    "                    })\n",
    "            except:\n",
    "                pass\n",
    "\n",
    "max_score = min([item['rss'] for item in results if not np.isnan(item['rss'])])\n",
    "best_result = [item for item in results if item['rss'] == max_score][0]\n",
    "print('Best fit: {}, params: {}'.format(max_score, best_result['params']))\n",
    "\n",
    "plt.plot(ts_log_diff)\n",
    "plt.plot(best_result['results'].fittedvalues, color='red')\n",
    "# plt.title('RSS: %.7f'% sum((results_ARIMA.fittedvalues-ts_log_diff)**2))\n",
    "plt.show()"
   ]
  },
  {
   "cell_type": "code",
   "execution_count": null,
   "metadata": {},
   "outputs": [],
   "source": [
    "results_ARIMA.fittedvalues.count()"
   ]
  },
  {
   "cell_type": "code",
   "execution_count": null,
   "metadata": {},
   "outputs": [],
   "source": [
    "ts_log_arima = ts_log.copy()\n",
    "data_with_dates = data[['Date', 'Close']].copy()\n",
    "data_with_dates['Preds'] = np.nan\n",
    "data_with_dates['Close_Train'] = np.nan\n",
    "data_with_dates['Close_Test'] = np.nan\n",
    "data_with_dates.set_index('Date')\n",
    "# data_with_dates.head()\n",
    "\n",
    "# rolling_val = ts_log[0]\n",
    "data_with_dates.at[0, 'Preds'] = ts_log[0]\n",
    "last_idx = 0\n",
    "for idx, value in best_result['results'].fittedvalues.iteritems():\n",
    "    last_idx = idx\n",
    "    if not np.isnan(value):\n",
    "#         rolling_val = rolling_val + value\n",
    "#         print(data_with_dates['Preds'][idx - 1] + value)\n",
    "#         print(value)\n",
    "        data_with_dates.at[idx, 'Preds'] = data_with_dates['Preds'][idx - 1] + value\n",
    "\n",
    "# forecast_values = best_result['results'].forecast(test_count)[0]\n",
    "forecast_values = best_result['results'].predict(start=last_idx, end=last_idx + test_count)\n",
    "# print(forecast_values)\n",
    "for idx, value in enumerate(forecast_values):\n",
    "    if not np.isnan(value):\n",
    "        target_idx = idx + last_idx\n",
    "#         print(data_with_dates['Preds'][target_idx])\n",
    "        data_with_dates.at[target_idx + 1, 'Preds'] = data_with_dates['Preds'][target_idx] + value\n",
    "\n",
    "data_with_dates[['Preds']] = np.expm1(data_with_dates['Preds'])\n",
    "data_with_dates.loc[:train_count, 'Close_Train'] = y_train['Close']\n",
    "data_with_dates.loc[train_count:, 'Close_Test'] = y_test['Close']"
   ]
  },
  {
   "cell_type": "code",
   "execution_count": null,
   "metadata": {},
   "outputs": [],
   "source": [
    "data_with_dates.tail()"
   ]
  },
  {
   "cell_type": "code",
   "execution_count": null,
   "metadata": {},
   "outputs": [],
   "source": [
    "plt.plot(data_with_dates[['Preds']])\n",
    "plt.plot(data_with_dates[['Close_Train']])\n",
    "plt.plot(data_with_dates[['Close_Test']])\n",
    "# plt.xlabel('Date', fontsize=11)\n",
    "# plt.ylabel('Price in USD', fontsize=11)\n",
    "# plt.plot(ts_log_arima, color='Red')\n",
    "plt.show()"
   ]
  },
  {
   "cell_type": "code",
   "execution_count": null,
   "metadata": {},
   "outputs": [],
   "source": [
    "plt.plot(y_train['Close'])\n",
    "for result in results:\n",
    "    ts_log_arima = ts_log.copy()\n",
    "    # rolling_val = ts_log[0]\n",
    "    for idx, value in result['results'].fittedvalues.iteritems():\n",
    "        if not np.isnan(value):\n",
    "    #         rolling_val = rolling_val + value\n",
    "            ts_log_arima[idx + 1] = ts_log_arima[idx] + value\n",
    "\n",
    "    ts_log_arima = np.expm1(ts_log_arima)\n",
    "    plt.plot(ts_log_arima)\n",
    "plt.show()"
   ]
  },
  {
   "cell_type": "code",
   "execution_count": null,
   "metadata": {},
   "outputs": [],
   "source": [
    "class StocksEnv:\n",
    "    \n",
    "    def __init__(self, data, history_t=180, data_key='Close'):\n",
    "        self.data = data\n",
    "        self.history_t = history_t\n",
    "        self.data_key = data_key\n",
    "        self.reset()\n",
    "        \n",
    "    def reset(self):\n",
    "        self.t = 0\n",
    "        self.done = False\n",
    "        self.profits = 0\n",
    "        self.positions = []\n",
    "        self.position_value = 0\n",
    "        self.history = [0 for _ in range(self.history_t)]\n",
    "        return [self.position_value] + self.history # obs\n",
    "    \n",
    "    def step(self, act):\n",
    "        reward = 0\n",
    "        \n",
    "        # act = 0: stay, 1: buy, 2: sell\n",
    "        if act == 1:\n",
    "            self.positions.append(self.data.iloc[self.t, :][self.data_key])\n",
    "        elif act == 2: # sell\n",
    "            if len(self.positions) == 0:\n",
    "                reward = -1\n",
    "            else:\n",
    "                profits = 0\n",
    "                for p in self.positions:\n",
    "                    profits += (self.data.iloc[self.t, :][self.data_key] - p)\n",
    "                reward += profits\n",
    "                self.profits += profits\n",
    "                self.positions = []\n",
    "        \n",
    "        # set next time\n",
    "        self.t += 1\n",
    "        self.position_value = 0\n",
    "        for p in self.positions:\n",
    "            self.position_value += (self.data.iloc[self.t, :][self.data_key] - p)\n",
    "        self.history.pop(0)\n",
    "        self.history.append(self.data.iloc[self.t, :][self.data_key] - self.data.iloc[(self.t-1), :][self.data_key])\n",
    "        \n",
    "        # clipping reward\n",
    "        if reward > 0:\n",
    "            reward = 1\n",
    "        elif reward < 0:\n",
    "            reward = -1\n",
    "        \n",
    "        return [self.position_value] + self.history, reward, self.done # obs, reward, done"
   ]
  },
  {
   "cell_type": "code",
   "execution_count": null,
   "metadata": {},
   "outputs": [],
   "source": [
    "env = StocksEnv(data)\n",
    "print(env.reset())\n",
    "for _ in range(3):\n",
    "    pact = np.random.randint(3)\n",
    "    print(env.step(pact))"
   ]
  }
 ],
 "metadata": {
  "kernelspec": {
   "display_name": "Python 3",
   "language": "python",
   "name": "python3"
  },
  "language_info": {
   "codemirror_mode": {
    "name": "ipython",
    "version": 3
   },
   "file_extension": ".py",
   "mimetype": "text/x-python",
   "name": "python",
   "nbconvert_exporter": "python",
   "pygments_lexer": "ipython3",
   "version": "3.7.3"
  }
 },
 "nbformat": 4,
 "nbformat_minor": 2
}
