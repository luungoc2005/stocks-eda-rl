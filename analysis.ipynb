{
 "cells": [
  {
   "cell_type": "code",
   "execution_count": 1,
   "metadata": {},
   "outputs": [],
   "source": [
    "import pandas as pd\n",
    "import numpy as np"
   ]
  },
  {
   "cell_type": "code",
   "execution_count": 2,
   "metadata": {},
   "outputs": [],
   "source": [
    "data = pd.read_csv('NWL.csv')"
   ]
  },
  {
   "cell_type": "code",
   "execution_count": 3,
   "metadata": {},
   "outputs": [
    {
     "data": {
      "text/html": [
       "<div>\n",
       "<style scoped>\n",
       "    .dataframe tbody tr th:only-of-type {\n",
       "        vertical-align: middle;\n",
       "    }\n",
       "\n",
       "    .dataframe tbody tr th {\n",
       "        vertical-align: top;\n",
       "    }\n",
       "\n",
       "    .dataframe thead th {\n",
       "        text-align: right;\n",
       "    }\n",
       "</style>\n",
       "<table border=\"1\" class=\"dataframe\">\n",
       "  <thead>\n",
       "    <tr style=\"text-align: right;\">\n",
       "      <th></th>\n",
       "      <th>Date</th>\n",
       "      <th>Open</th>\n",
       "      <th>High</th>\n",
       "      <th>Low</th>\n",
       "      <th>Close</th>\n",
       "      <th>Adj Close</th>\n",
       "      <th>Volume</th>\n",
       "    </tr>\n",
       "  </thead>\n",
       "  <tbody>\n",
       "    <tr>\n",
       "      <th>0</th>\n",
       "      <td>2017-07-24</td>\n",
       "      <td>52.869999</td>\n",
       "      <td>52.950001</td>\n",
       "      <td>52.490002</td>\n",
       "      <td>52.599998</td>\n",
       "      <td>48.532166</td>\n",
       "      <td>3167600</td>\n",
       "    </tr>\n",
       "    <tr>\n",
       "      <th>1</th>\n",
       "      <td>2017-07-25</td>\n",
       "      <td>52.830002</td>\n",
       "      <td>53.110001</td>\n",
       "      <td>52.610001</td>\n",
       "      <td>52.950001</td>\n",
       "      <td>48.855099</td>\n",
       "      <td>2741100</td>\n",
       "    </tr>\n",
       "    <tr>\n",
       "      <th>2</th>\n",
       "      <td>2017-07-26</td>\n",
       "      <td>53.080002</td>\n",
       "      <td>53.090000</td>\n",
       "      <td>52.689999</td>\n",
       "      <td>52.750000</td>\n",
       "      <td>48.670563</td>\n",
       "      <td>1671500</td>\n",
       "    </tr>\n",
       "    <tr>\n",
       "      <th>3</th>\n",
       "      <td>2017-07-27</td>\n",
       "      <td>52.730000</td>\n",
       "      <td>52.840000</td>\n",
       "      <td>51.990002</td>\n",
       "      <td>52.139999</td>\n",
       "      <td>48.107742</td>\n",
       "      <td>3061000</td>\n",
       "    </tr>\n",
       "    <tr>\n",
       "      <th>4</th>\n",
       "      <td>2017-07-28</td>\n",
       "      <td>52.000000</td>\n",
       "      <td>52.459999</td>\n",
       "      <td>51.910000</td>\n",
       "      <td>52.070000</td>\n",
       "      <td>48.043156</td>\n",
       "      <td>2010600</td>\n",
       "    </tr>\n",
       "  </tbody>\n",
       "</table>\n",
       "</div>"
      ],
      "text/plain": [
       "         Date       Open       High        Low      Close  Adj Close   Volume\n",
       "0  2017-07-24  52.869999  52.950001  52.490002  52.599998  48.532166  3167600\n",
       "1  2017-07-25  52.830002  53.110001  52.610001  52.950001  48.855099  2741100\n",
       "2  2017-07-26  53.080002  53.090000  52.689999  52.750000  48.670563  1671500\n",
       "3  2017-07-27  52.730000  52.840000  51.990002  52.139999  48.107742  3061000\n",
       "4  2017-07-28  52.000000  52.459999  51.910000  52.070000  48.043156  2010600"
      ]
     },
     "execution_count": 3,
     "metadata": {},
     "output_type": "execute_result"
    }
   ],
   "source": [
    "data.head()"
   ]
  },
  {
   "cell_type": "code",
   "execution_count": 4,
   "metadata": {},
   "outputs": [
    {
     "data": {
      "text/plain": [
       "Date         502\n",
       "Open         502\n",
       "High         502\n",
       "Low          502\n",
       "Close        502\n",
       "Adj Close    502\n",
       "Volume       502\n",
       "dtype: int64"
      ]
     },
     "execution_count": 4,
     "metadata": {},
     "output_type": "execute_result"
    }
   ],
   "source": [
    "data.count()"
   ]
  },
  {
   "cell_type": "code",
   "execution_count": 5,
   "metadata": {},
   "outputs": [],
   "source": [
    "count = data['Date'].count()\n",
    "# train_count = int(count * .8)\n",
    "\n",
    "# y_train = data[['Date', 'Close']][:train_count]\n",
    "# y_test = data[['Date', 'Close']][train_count:]\n",
    "\n",
    "y_train = data[['Date', 'Close']][count - 30 - 365:count - 30]\n",
    "y_test = data[['Date', 'Close']][-30:]\n",
    "\n",
    "test_count = y_test['Date'].count()\n",
    "\n",
    "y_train_plt = y_train.set_index('Date')\n",
    "y_test_plt = y_test.set_index('Date')\n",
    "\n",
    "y_train_plt.sort_index(inplace=True)\n",
    "y_test_plt.sort_index(inplace=True)"
   ]
  },
  {
   "cell_type": "code",
   "execution_count": 6,
   "metadata": {},
   "outputs": [
    {
     "data": {
      "image/png": "[encoded data removed]",
      "text/plain": [
       "<Figure size 432x288 with 1 Axes>"
      ]
     },
     "metadata": {
      "needs_background": "light"
     },
     "output_type": "display_data"
    }
   ],
   "source": [
    "%matplotlib inline\n",
    "import matplotlib.pyplot as plt\n",
    "\n",
    "plt.plot(y_train_plt)\n",
    "plt.plot(y_test_plt, color='Red')\n",
    "plt.xlabel('Date', fontsize=11)\n",
    "plt.ylabel('Price in USD', fontsize=11)\n",
    "plt.show()"
   ]
  },
  {
   "cell_type": "code",
   "execution_count": 7,
   "metadata": {},
   "outputs": [],
   "source": [
    "from statsmodels.tsa.stattools import adfuller\n",
    "\n",
    "def test_stationarity(x):\n",
    "    #Determing rolling statistics\n",
    "    rolmean = x.rolling(window=22,center=False).mean()\n",
    "\n",
    "    rolstd = x.rolling(window=12,center=False).std()\n",
    "\n",
    "    #Plot rolling statistics:\n",
    "    orig = plt.plot(x, color='blue',label='Original')\n",
    "    mean = plt.plot(rolmean, color='red', label='Rolling Mean')\n",
    "    std = plt.plot(rolstd, color='black', label = 'Rolling Std')\n",
    "    plt.legend(loc='best')\n",
    "    plt.title('Rolling Mean & Standard Deviation')\n",
    "    plt.show(block=False)\n",
    "\n",
    "    #Perform Dickey Fuller test    \n",
    "    result=adfuller(x)\n",
    "    print('ADF Stastistic: %f'%result[0])\n",
    "    print('p-value: %f'%result[1])\n",
    "    pvalue=result[1]\n",
    "    for key,value in result[4].items():\n",
    "        if result[0]>value:\n",
    "            print(\"The graph is non stationary\")\n",
    "            break\n",
    "        else:\n",
    "            print(\"The graph is stationary\")\n",
    "            break\n",
    "    print('Critical values:')\n",
    "    for key,value in result[4].items():\n",
    "        print('\\t%s: %.3f ' % (key, value))"
   ]
  },
  {
   "cell_type": "code",
   "execution_count": 8,
   "metadata": {},
   "outputs": [
    {
     "data": {
      "image/png": "[encoded data removed]",
      "text/plain": [
       "<Figure size 432x288 with 1 Axes>"
      ]
     },
     "metadata": {
      "needs_background": "light"
     },
     "output_type": "display_data"
    },
    {
     "name": "stdout",
     "output_type": "stream",
     "text": [
      "ADF Stastistic: -1.438853\n",
      "p-value: 0.563514\n",
      "The graph is non stationary\n",
      "Critical values:\n",
      "\t1%: -3.448 \n",
      "\t5%: -2.870 \n",
      "\t10%: -2.571 \n"
     ]
    }
   ],
   "source": [
    "test_stationarity(y_train['Close'])"
   ]
  },
  {
   "cell_type": "code",
   "execution_count": 9,
   "metadata": {},
   "outputs": [
    {
     "data": {
      "image/png": "[encoded data removed]",
      "text/plain": [
       "<Figure size 432x288 with 1 Axes>"
      ]
     },
     "metadata": {
      "needs_background": "light"
     },
     "output_type": "display_data"
    },
    {
     "data": {
      "image/png": "[encoded data removed]",
      "text/plain": [
       "<Figure size 432x288 with 1 Axes>"
      ]
     },
     "metadata": {
      "needs_background": "light"
     },
     "output_type": "display_data"
    },
    {
     "name": "stdout",
     "output_type": "stream",
     "text": [
      "ADF Stastistic: -1.148124\n",
      "p-value: 0.695504\n",
      "The graph is non stationary\n",
      "Critical values:\n",
      "\t1%: -3.448 \n",
      "\t5%: -2.870 \n",
      "\t10%: -2.571 \n"
     ]
    }
   ],
   "source": [
    "ts_log = np.log1p(y_train['Close'])\n",
    "plt.plot(ts_log,color=\"green\")\n",
    "plt.show()\n",
    "\n",
    "test_stationarity(ts_log)"
   ]
  },
  {
   "cell_type": "code",
   "execution_count": 10,
   "metadata": {},
   "outputs": [
    {
     "data": {
      "text/plain": [
       "107    3.455370\n",
       "108    3.463233\n",
       "109    3.457263\n",
       "110    3.466673\n",
       "111    3.462606\n",
       "Name: Close, dtype: float64"
      ]
     },
     "execution_count": 10,
     "metadata": {},
     "output_type": "execute_result"
    }
   ],
   "source": [
    "ts_log[:5]"
   ]
  },
  {
   "cell_type": "code",
   "execution_count": 11,
   "metadata": {},
   "outputs": [
    {
     "data": {
      "text/plain": [
       "107         NaN\n",
       "108    0.007863\n",
       "109   -0.005970\n",
       "110    0.009410\n",
       "111   -0.004067\n",
       "Name: Close, dtype: float64"
      ]
     },
     "execution_count": 11,
     "metadata": {},
     "output_type": "execute_result"
    }
   ],
   "source": [
    "ts_log_diff = ts_log - ts_log.shift()\n",
    "ts_log_diff[:5]"
   ]
  },
  {
   "cell_type": "code",
   "execution_count": 12,
   "metadata": {},
   "outputs": [
    {
     "ename": "KeyError",
     "evalue": "0",
     "output_type": "error",
     "traceback": [
      "\u001b[0;31m---------------------------------------------------------------------------\u001b[0m",
      "\u001b[0;31mKeyError\u001b[0m                                  Traceback (most recent call last)",
      "\u001b[0;32m<ipython-input-12-8e6c1918a8e7>\u001b[0m in \u001b[0;36m<module>\u001b[0;34m\u001b[0m\n\u001b[1;32m      1\u001b[0m \u001b[0mts_log_clone\u001b[0m \u001b[0;34m=\u001b[0m \u001b[0mts_log\u001b[0m\u001b[0;34m.\u001b[0m\u001b[0mcopy\u001b[0m\u001b[0;34m(\u001b[0m\u001b[0;34m)\u001b[0m\u001b[0;34m\u001b[0m\u001b[0;34m\u001b[0m\u001b[0m\n\u001b[0;32m----> 2\u001b[0;31m \u001b[0mrolling_val\u001b[0m \u001b[0;34m=\u001b[0m \u001b[0mts_log\u001b[0m\u001b[0;34m[\u001b[0m\u001b[0;36m0\u001b[0m\u001b[0;34m]\u001b[0m\u001b[0;34m\u001b[0m\u001b[0;34m\u001b[0m\u001b[0m\n\u001b[0m\u001b[1;32m      3\u001b[0m \u001b[0;32mfor\u001b[0m \u001b[0midx\u001b[0m\u001b[0;34m,\u001b[0m \u001b[0mvalue\u001b[0m \u001b[0;32min\u001b[0m \u001b[0mts_log_diff\u001b[0m\u001b[0;34m.\u001b[0m\u001b[0miteritems\u001b[0m\u001b[0;34m(\u001b[0m\u001b[0;34m)\u001b[0m\u001b[0;34m:\u001b[0m\u001b[0;34m\u001b[0m\u001b[0;34m\u001b[0m\u001b[0m\n\u001b[1;32m      4\u001b[0m     \u001b[0;32mif\u001b[0m \u001b[0;32mnot\u001b[0m \u001b[0mnp\u001b[0m\u001b[0;34m.\u001b[0m\u001b[0misnan\u001b[0m\u001b[0;34m(\u001b[0m\u001b[0mvalue\u001b[0m\u001b[0;34m)\u001b[0m\u001b[0;34m:\u001b[0m\u001b[0;34m\u001b[0m\u001b[0;34m\u001b[0m\u001b[0m\n\u001b[1;32m      5\u001b[0m         \u001b[0mrolling_val\u001b[0m \u001b[0;34m=\u001b[0m \u001b[0mrolling_val\u001b[0m \u001b[0;34m+\u001b[0m \u001b[0mvalue\u001b[0m\u001b[0;34m\u001b[0m\u001b[0;34m\u001b[0m\u001b[0m\n",
      "\u001b[0;32m~/miniconda3/envs/stocks/lib/python3.7/site-packages/pandas/core/series.py\u001b[0m in \u001b[0;36m__getitem__\u001b[0;34m(self, key)\u001b[0m\n\u001b[1;32m    866\u001b[0m         \u001b[0mkey\u001b[0m \u001b[0;34m=\u001b[0m \u001b[0mcom\u001b[0m\u001b[0;34m.\u001b[0m\u001b[0mapply_if_callable\u001b[0m\u001b[0;34m(\u001b[0m\u001b[0mkey\u001b[0m\u001b[0;34m,\u001b[0m \u001b[0mself\u001b[0m\u001b[0;34m)\u001b[0m\u001b[0;34m\u001b[0m\u001b[0;34m\u001b[0m\u001b[0m\n\u001b[1;32m    867\u001b[0m         \u001b[0;32mtry\u001b[0m\u001b[0;34m:\u001b[0m\u001b[0;34m\u001b[0m\u001b[0;34m\u001b[0m\u001b[0m\n\u001b[0;32m--> 868\u001b[0;31m             \u001b[0mresult\u001b[0m \u001b[0;34m=\u001b[0m \u001b[0mself\u001b[0m\u001b[0;34m.\u001b[0m\u001b[0mindex\u001b[0m\u001b[0;34m.\u001b[0m\u001b[0mget_value\u001b[0m\u001b[0;34m(\u001b[0m\u001b[0mself\u001b[0m\u001b[0;34m,\u001b[0m \u001b[0mkey\u001b[0m\u001b[0;34m)\u001b[0m\u001b[0;34m\u001b[0m\u001b[0;34m\u001b[0m\u001b[0m\n\u001b[0m\u001b[1;32m    869\u001b[0m \u001b[0;34m\u001b[0m\u001b[0m\n\u001b[1;32m    870\u001b[0m             \u001b[0;32mif\u001b[0m \u001b[0;32mnot\u001b[0m \u001b[0mis_scalar\u001b[0m\u001b[0;34m(\u001b[0m\u001b[0mresult\u001b[0m\u001b[0;34m)\u001b[0m\u001b[0;34m:\u001b[0m\u001b[0;34m\u001b[0m\u001b[0;34m\u001b[0m\u001b[0m\n",
      "\u001b[0;32m~/miniconda3/envs/stocks/lib/python3.7/site-packages/pandas/core/indexes/base.py\u001b[0m in \u001b[0;36mget_value\u001b[0;34m(self, series, key)\u001b[0m\n\u001b[1;32m   4373\u001b[0m         \u001b[0;32mtry\u001b[0m\u001b[0;34m:\u001b[0m\u001b[0;34m\u001b[0m\u001b[0;34m\u001b[0m\u001b[0m\n\u001b[1;32m   4374\u001b[0m             return self._engine.get_value(s, k,\n\u001b[0;32m-> 4375\u001b[0;31m                                           tz=getattr(series.dtype, 'tz', None))\n\u001b[0m\u001b[1;32m   4376\u001b[0m         \u001b[0;32mexcept\u001b[0m \u001b[0mKeyError\u001b[0m \u001b[0;32mas\u001b[0m \u001b[0me1\u001b[0m\u001b[0;34m:\u001b[0m\u001b[0;34m\u001b[0m\u001b[0;34m\u001b[0m\u001b[0m\n\u001b[1;32m   4377\u001b[0m             \u001b[0;32mif\u001b[0m \u001b[0mlen\u001b[0m\u001b[0;34m(\u001b[0m\u001b[0mself\u001b[0m\u001b[0;34m)\u001b[0m \u001b[0;34m>\u001b[0m \u001b[0;36m0\u001b[0m \u001b[0;32mand\u001b[0m \u001b[0;34m(\u001b[0m\u001b[0mself\u001b[0m\u001b[0;34m.\u001b[0m\u001b[0mholds_integer\u001b[0m\u001b[0;34m(\u001b[0m\u001b[0;34m)\u001b[0m \u001b[0;32mor\u001b[0m \u001b[0mself\u001b[0m\u001b[0;34m.\u001b[0m\u001b[0mis_boolean\u001b[0m\u001b[0;34m(\u001b[0m\u001b[0;34m)\u001b[0m\u001b[0;34m)\u001b[0m\u001b[0;34m:\u001b[0m\u001b[0;34m\u001b[0m\u001b[0;34m\u001b[0m\u001b[0m\n",
      "\u001b[0;32mpandas/_libs/index.pyx\u001b[0m in \u001b[0;36mpandas._libs.index.IndexEngine.get_value\u001b[0;34m()\u001b[0m\n",
      "\u001b[0;32mpandas/_libs/index.pyx\u001b[0m in \u001b[0;36mpandas._libs.index.IndexEngine.get_value\u001b[0;34m()\u001b[0m\n",
      "\u001b[0;32mpandas/_libs/index.pyx\u001b[0m in \u001b[0;36mpandas._libs.index.IndexEngine.get_loc\u001b[0;34m()\u001b[0m\n",
      "\u001b[0;32mpandas/_libs/hashtable_class_helper.pxi\u001b[0m in \u001b[0;36mpandas._libs.hashtable.Int64HashTable.get_item\u001b[0;34m()\u001b[0m\n",
      "\u001b[0;32mpandas/_libs/hashtable_class_helper.pxi\u001b[0m in \u001b[0;36mpandas._libs.hashtable.Int64HashTable.get_item\u001b[0;34m()\u001b[0m\n",
      "\u001b[0;31mKeyError\u001b[0m: 0"
     ]
    }
   ],
   "source": [
    "ts_log_clone = ts_log.copy()\n",
    "rolling_val = ts_log[0]\n",
    "for idx, value in ts_log_diff.iteritems():\n",
    "    if not np.isnan(value):\n",
    "        rolling_val = rolling_val + value\n",
    "        ts_log_clone[idx] = rolling_val"
   ]
  },
  {
   "cell_type": "code",
   "execution_count": null,
   "metadata": {},
   "outputs": [],
   "source": [
    "ts_log_clone[:5]"
   ]
  },
  {
   "cell_type": "code",
   "execution_count": null,
   "metadata": {},
   "outputs": [],
   "source": [
    "sum((ts_log_clone-ts_log)**2)"
   ]
  },
  {
   "cell_type": "code",
   "execution_count": null,
   "metadata": {},
   "outputs": [],
   "source": [
    "ts_log_clone.count()"
   ]
  },
  {
   "cell_type": "code",
   "execution_count": null,
   "metadata": {},
   "outputs": [],
   "source": [
    "ts_log_diff = ts_log - ts_log.shift()\n",
    "plt.plot(ts_log_diff)\n",
    "plt.show()\n",
    "\n",
    "ts_log_diff.dropna(inplace=True)\n",
    "test_stationarity(ts_log_diff)"
   ]
  },
  {
   "cell_type": "code",
   "execution_count": null,
   "metadata": {},
   "outputs": [],
   "source": [
    "from statsmodels.tsa.arima_model import ARIMA\n",
    "\n",
    "results = []\n",
    "for a in range(4):\n",
    "    for b in range(4):\n",
    "        for c in range(4):\n",
    "#             model = ARIMA(ts_log, order=(1,1,0))\n",
    "            try:\n",
    "                model = ARIMA(ts_log, order=(a,b,c))\n",
    "                results_ARIMA = model.fit(disp=-1)\n",
    "                model_rss = sum((results_ARIMA.fittedvalues-ts_log_diff)**2)\n",
    "                if not np.isnan(model_rss):\n",
    "                    print('a={}, b={}, c={} - RSS={}'.format(a, b, c, model_rss))\n",
    "                    results.append({\n",
    "                        'params': (a, b, c),\n",
    "                        'model': model,\n",
    "                        'results': results_ARIMA,\n",
    "                        'rss': model_rss\n",
    "                    })\n",
    "            except:\n",
    "                pass\n",
    "\n",
    "max_score = min([item['rss'] for item in results if not np.isnan(item['rss'])])\n",
    "best_result = [item for item in results if item['rss'] == max_score][0]\n",
    "print('Best fit: {}, params: {}'.format(max_score, best_result['params']))\n",
    "\n",
    "plt.plot(ts_log_diff)\n",
    "plt.plot(best_result['results'].fittedvalues, color='red')\n",
    "# plt.title('RSS: %.7f'% sum((results_ARIMA.fittedvalues-ts_log_diff)**2))\n",
    "plt.show()"
   ]
  },
  {
   "cell_type": "code",
   "execution_count": null,
   "metadata": {},
   "outputs": [],
   "source": [
    "results_ARIMA.fittedvalues.count()"
   ]
  },
  {
   "cell_type": "code",
   "execution_count": null,
   "metadata": {},
   "outputs": [],
   "source": [
    "ts_log_arima = ts_log.copy()\n",
    "data_with_dates = data[['Date', 'Close']].copy()\n",
    "data_with_dates['Preds'] = np.nan\n",
    "data_with_dates['Close_Train'] = np.nan\n",
    "data_with_dates['Close_Test'] = np.nan\n",
    "data_with_dates.set_index('Date')\n",
    "# data_with_dates.head()\n",
    "\n",
    "# rolling_val = ts_log[0]\n",
    "data_with_dates.at[0, 'Preds'] = ts_log[0]\n",
    "last_idx = 0\n",
    "for idx, value in best_result['results'].fittedvalues.iteritems():\n",
    "    last_idx = idx\n",
    "    if not np.isnan(value):\n",
    "#         rolling_val = rolling_val + value\n",
    "#         print(data_with_dates['Preds'][idx - 1] + value)\n",
    "#         print(value)\n",
    "        data_with_dates.at[idx, 'Preds'] = data_with_dates['Preds'][idx - 1] + value\n",
    "\n",
    "# forecast_values = best_result['results'].forecast(test_count)[0]\n",
    "forecast_values = best_result['results'].predict(start=last_idx, end=last_idx + test_count)\n",
    "# print(forecast_values)\n",
    "for idx, value in enumerate(forecast_values):\n",
    "    if not np.isnan(value):\n",
    "        target_idx = idx + last_idx\n",
    "#         print(data_with_dates['Preds'][target_idx])\n",
    "        data_with_dates.at[target_idx + 1, 'Preds'] = data_with_dates['Preds'][target_idx] + value\n",
    "\n",
    "data_with_dates[['Preds']] = np.expm1(data_with_dates['Preds'])\n",
    "data_with_dates.loc[:train_count, 'Close_Train'] = y_train['Close']\n",
    "data_with_dates.loc[train_count:, 'Close_Test'] = y_test['Close']"
   ]
  },
  {
   "cell_type": "code",
   "execution_count": null,
   "metadata": {},
   "outputs": [],
   "source": [
    "data_with_dates.tail()"
   ]
  },
  {
   "cell_type": "code",
   "execution_count": null,
   "metadata": {},
   "outputs": [],
   "source": [
    "plt.plot(data_with_dates[['Preds']])\n",
    "plt.plot(data_with_dates[['Close_Train']])\n",
    "plt.plot(data_with_dates[['Close_Test']])\n",
    "# plt.xlabel('Date', fontsize=11)\n",
    "# plt.ylabel('Price in USD', fontsize=11)\n",
    "# plt.plot(ts_log_arima, color='Red')\n",
    "plt.show()"
   ]
  },
  {
   "cell_type": "code",
   "execution_count": null,
   "metadata": {},
   "outputs": [],
   "source": [
    "plt.plot(y_train['Close'])\n",
    "for result in results:\n",
    "    ts_log_arima = ts_log.copy()\n",
    "    # rolling_val = ts_log[0]\n",
    "    for idx, value in result['results'].fittedvalues.iteritems():\n",
    "        if not np.isnan(value):\n",
    "    #         rolling_val = rolling_val + value\n",
    "            ts_log_arima[idx + 1] = ts_log_arima[idx] + value\n",
    "\n",
    "    ts_log_arima = np.expm1(ts_log_arima)\n",
    "    plt.plot(ts_log_arima)\n",
    "plt.show()"
   ]
  },
  {
   "cell_type": "code",
   "execution_count": null,
   "metadata": {},
   "outputs": [],
   "source": [
    "class StocksEnv:\n",
    "    \n",
    "    def __init__(self, data, history_t=180, data_key='Close'):\n",
    "        self.data = data\n",
    "        self.history_t = history_t\n",
    "        self.data_key = data_key\n",
    "        self.reset()\n",
    "        \n",
    "    def reset(self):\n",
    "        self.t = 0\n",
    "        self.done = False\n",
    "        self.profits = 0\n",
    "        self.positions = []\n",
    "        self.position_value = 0\n",
    "        self.history = [0 for _ in range(self.history_t)]\n",
    "        return [self.position_value] + self.history # obs\n",
    "    \n",
    "    def step(self, act):\n",
    "        reward = 0\n",
    "        \n",
    "        # act = 0: stay, 1: buy, 2: sell\n",
    "        if act == 1:\n",
    "            self.positions.append(self.data.iloc[self.t, :][self.data_key])\n",
    "        elif act == 2: # sell\n",
    "            if len(self.positions) == 0:\n",
    "                reward = -1\n",
    "            else:\n",
    "                profits = 0\n",
    "                for p in self.positions:\n",
    "                    profits += (self.data.iloc[self.t, :][self.data_key] - p)\n",
    "                reward += profits\n",
    "                self.profits += profits\n",
    "                self.positions = []\n",
    "        \n",
    "        # set next time\n",
    "        self.t += 1\n",
    "        self.position_value = 0\n",
    "        for p in self.positions:\n",
    "            self.position_value += (self.data.iloc[self.t, :][self.data_key] - p)\n",
    "        self.history.pop(0)\n",
    "        self.history.append(self.data.iloc[self.t, :][self.data_key] - self.data.iloc[(self.t-1), :][self.data_key])\n",
    "        \n",
    "        # clipping reward\n",
    "        if reward > 0:\n",
    "            reward = 1\n",
    "        elif reward < 0:\n",
    "            reward = -1\n",
    "        \n",
    "        return [self.position_value] + self.history, reward, self.done # obs, reward, done"
   ]
  },
  {
   "cell_type": "code",
   "execution_count": null,
   "metadata": {},
   "outputs": [],
   "source": [
    "env = StocksEnv(data)\n",
    "print(env.reset())\n",
    "for _ in range(3):\n",
    "    pact = np.random.randint(3)\n",
    "    print(env.step(pact))"
   ]
  }
 ],
 "metadata": {
  "kernelspec": {
   "display_name": "Python 3",
   "language": "python",
   "name": "python3"
  },
  "language_info": {
   "codemirror_mode": {
    "name": "ipython",
    "version": 3
   },
   "file_extension": ".py",
   "mimetype": "text/x-python",
   "name": "python",
   "nbconvert_exporter": "python",
   "pygments_lexer": "ipython3",
   "version": "3.7.3"
  }
 },
 "nbformat": 4,
 "nbformat_minor": 2
}
